{
 "cells": [
  {
   "cell_type": "code",
   "execution_count": 1,
   "metadata": {},
   "outputs": [],
   "source": [
    "from utils import *"
   ]
  },
  {
   "cell_type": "code",
   "execution_count": 2,
   "metadata": {},
   "outputs": [],
   "source": [
    "tekst_1 = \"\"\"\n",
    "Asielcrisis? Er komen juist mínder asielzoekers naar ons land.\n",
    "Het kabinet wil deze week de knoop doorhakken: komt er een politiek compromis of wordt er toch een ‘asielcrisis’ uitgeroepen? Wie naar de huidige cijfers kijkt, ziet dat het lang geleden is dat er zo weinig asielzoekers naar Nederland kwamen.\n",
    "\n",
    "Sinds vrijdag zit premier Dick Schoof weer om tafel met PVV-leider Geert Wilders en inval-NSC-leider Nicolien van Vroonhoven. De eerste wil – ‘afspraak is afspraak’ – via het staatsnoodrecht de ‘asielcrisis’ uitroepen, de ander is daar mordicus tegen. Ook in kabinetskringen wordt die omstreden route die het parlement buitenspel zet inmiddels als ‘onbegaanbaar’ bestempeld. Al was het maar omdat de Eerste Kamer die ‘ongewenst’ vindt en de verwachting is dat de Raad van State de inzet van het noodrecht afschiet.\n",
    "Intussen schetsen de meest recente asielcijfers niet bepaald het beeld van een acute crisissituatie.\n",
    "Neem afgelopen maand. In totaal vroegen 4026 mensen asiel aan, zo’n 1000 per week. Dan gaat het om de eerste aanvragen, maar ook om gezinsherenigingen en tweede verzoeken om asiel. Dat lijkt veel, maar het is in werkelijkheid juist heel weinig.\n",
    "\n",
    "Nooit eerder in de afgelopen vier jaar was het aantal asielaanvragen in de maand september zo laag. In september 2023 werden 4665 asielaanvragen gedaan, september 2022 waren het er 5374 en in september 2021 stond de teller op 5089, laten cijfers van de Immigratie- en Naturalisatiedienst (IND) zien.\n",
    "Ook blijft het totale aantal asielzoekers achter bij de prognose voor 2024, zoals het ministerie dat in april bekendmaakte. Toen werd uitgegaan van een aantal asielaanvragen van net geen 70.000. Tot en met september vroegen 34.711 mensen asiel aan in Nederland. De kans dat er binnen drie maanden tijd nog eens 35.000 mensen naar Nederland zouden komen, is nihil.\n",
    "Middellandse Zee\n",
    "Dit jaar steken namelijk minder migranten de Middellandse Zee over naar Europa. In het tweede kwartaal van 2024 ging het om 37.655 mensen, becijferde de Internationale Organisatie voor Migratie (IOM). Dat is 35 procent minder dan in dezelfde periode in 2023 en ook minder dan het jaar daarvoor.\n",
    "Cijfers van de VN-vluchtelingenorganisatie UNHCR laten een nog scherpere daling zien. Kwamen er in heel 2023 bijna 270.000 mensen over zee naar Europa (via Italië, Spanje en Griekenland), dit jaar blijft de teller steken op een kleine 140.000.\n",
    "Waarom dat aantal lager is dan voorgaande jaren, is niet helemaal duidelijk. Bekend is dat minder migranten het aandurven om op een door mensensmokkelaars geregeld bootje te stappen als de weersomstandigheden slecht zijn. De reislust neemt dan weer toe bij een kalme zee.\n",
    "Maar er wordt ook gewezen op de Tunesië-deal als oorzaak van het relatief lage aantal oversteken. De Europese Unie sprak vorig jaar zomer met het Noord-Afrikaanse land af dat het vluchtelingen tegenhoudt. In ruil daarvoor krijgt Tunesië 225 miljoen euro. De deal is omstreden, omdat zwarte migranten in het land worden gediscrimineerd. Tegenstanders zeggen bovendien dat de mensenrechtensituatie in Tunesië wordt geschonden doordat mensen de mogelijkheid wordt ontnomen om te vluchten.\n",
    "Opvangcrisis\n",
    "Migranten die via zee naar Griekenland of Italië komen, reizen vaak door naar andere landen in West-Europa. Vaak vragen ze daar pas asiel aan. Zo ‘profiteert’ ook Nederland van het lagere aantal asielzoekers in Europa.\n",
    "Al betekenen de lagere cijfers dan verwacht niet dat er geen problemen zijn in de opvang van asielzoekers. De asielzoekerscentra zitten nog steeds propvol – de actuele bezettingsgraad schommelt tussen de 99,9 en 100,1 procent. De honderden noodopvang- en crisisnoodopvanglocaties zijn daarom hard nodig.\n",
    "\n",
    "Ook in aanmeldcentrum Ter Apel verblijven vaak meer mensen dan de afgesproken 2000. Afgelopen vrijdag sliepen er 2116 mensen. De opvangcrisis, die in 2021 begon, duurt dus wel nog steeds voort.\n",
    "\"\"\""
   ]
  },
  {
   "cell_type": "code",
   "execution_count": 3,
   "metadata": {},
   "outputs": [],
   "source": [
    "tekst_2 = \"\"\"\n",
    "Het lichtzinnig beroep op een ‘asielcrisis’, een gevaar voor de rechtsstaat? - News - Utrecht University (uu.nl)\n",
    "Het lichtzinnig beroep op een ‘asielcrisis’, een gevaar voor de rechtsstaat?\n",
    "Tijdens de presentatie van het regeerprogramma afgelopen vrijdag liet minister-president Schoof weten dat de Nederlandse regering van plan is om een asielcrisiswet uit te vaardigen. Als voorschot op deze wet gaat de minister-president een algemene maatregel van bestuur (AMvB) uitvaardigen om zo, nog voor dat de Asielcrisiswet in werking treedt, maatregelen te kunnen nemen op het gebied van asiel. Omdat het gaat om een AMvB is geen voorafgaande instemming van het parlement vereist. Aanleiding voor deze ongewone werkwijze van de regering is volgens de regering de ‘asielcrisis’ die Nederlanders zouden ervaren. In het regeerprogramma van het kabinet-Schoof is een hele paragraaf ingeruimd over het onderwerp asiel en migratie, waarin onder andere is opgenomen dat Nederland tot de categorie lidstaten moet behoren met de strengste toelatingseisen van de EU. Sterker nog, het kabinet Schoof wil een opt-out aanvragen voor de Europese asielregels. Dat zou betekenen dat Nederland zich niet meer hoeft te houden aan het Gemeenschappelijk Europees Asielsysteem (GEAS). Nu de besluitvorming rond zo’n opt-out nog wel even duurt, en Nederland volgens de regering in een crisissituatie zit, is besloten tot het uitvaardigen van de AMvB. Het uitroepen van een asielcrisis doet volgens ons echter geen recht aan de huidige situatie en leidt tot meer wantrouwen op de langere termijn tussen burger en overheid. \n",
    "Het gebruik van het woord ‘crisis’ wekt de schijn dat het zou gaan om een beslissend moment in het asielbeleid van de afgelopen decennia, alsof het een natuurramp is die ons nu plotseling overkomt. Als we kijken naar de instroomcijfers van de afgelopen jaren, dan moeten we constateren dat in werkelijkheid niet meer asielzoekers naar Nederland komen. Weliswaar fluctueert de instroom, maar dat is inherent aan asiel. Er is dus eigenlijk geen sprake van een crisis. Wie goed luisterde naar de toespraak van minister-president Schoof bij de presentatie van het regeerprogramma moest constateren dat Nederland met name kampt met een niet functionerende asielketen en een gebrek aan doorstroom in de opvang. Maar ook hiervan kan men eigenlijk niet beweren dat sprake is van buitengewone omstandigheden die een dergelijke maatregel noodzakelijk maken, zoals vereist in de Vreemdelingenwet. Want zowel de haperende asielketen als de opvangcrisis kunnen moeilijk bestempeld worden als een opeens opkomende noodsituatie. Het gaat hier eigenlijk om een door haperend beleid veroorzaakte toestand die geleidelijk tot stand is gebracht. Dat er mensen buiten Ter Apel slapen komt niet bepaald uit de lucht vallen.\n",
    "Door het uitroepen van een asielcrisis wordt een juridische toestand gecreëerd die niet zozeer declaratoir als wel constitutief is voor de feitelijke toestand. Een dergelijk handelen bergt het gevaar in zich dat de noodtoestand die juist is bedoeld om de rechtsstaat te beschermen tegen onverwachte situaties diezelfde rechtsstaat ondermijnt, namelijk door de opschorting van grondrechten, zoals het recht op asiel, en door een tekort aan democratische legitimatie. Want hoewel de Staten-Generaal uiteindelijk wel kunnen beslissen over de voortduring van de noodwetgeving en zo snel mogelijk een wet in formele zin, in dit geval de asielcrisiswet, voorgelegd moet worden aan de Staten-Generaal, zullen in eerste instantie delen van de Vreemdelingenwet door een algemene maatregel van bestuur opzij worden gezet. \n",
    "Dat de vreemdelingenketen niet functioneert, is zeker waar. Nog steeds moeten de minister en het Centraal Orgaan opvang asielzoekers (COA) grote bedragen aan dwangsommen betalen vanwege zowel het niet tijdig beslissen als vanwege het huisvesten van teveel asielzoekers in Ter Apel. Daarnaast kunnen asielzoekers die uiteindelijk een verblijfsvergunning krijgen niet doorstromen naar een reguliere woning. Het gevolg is dat de opvang van asielzoekers in Nederland  is vastgelopen. Het gaat hier echter om een situatie die al lange tijd voortduurt en die door de overheid zelf is gecreëerd.\n",
    "De overheid loopt al jaren achter de feiten aan. Het lukt de IND al lange tijd niet om op tijd te beslissen op asielaanvragen. Het gevolg is dat asielzoekers te lang moeten wachten op een besluit van de minister. Al die tijd verblijven zij in de opvang. Daarnaast wordt de instroom van asielzoekers door het Ministerie van Justitie & Veiligheid (thans Asiel en Migratie)  structureel te laag beraamd. Dit leidt ertoe dat er al snel een beroep moet worden gedaan op de crisisopvang, ook voor kwetsbare groepen. Niet alleen kost dit de overheid veel geld, ook voldoet deze vorm van crisisopvang en crisisnoodopvang vaak niet aan de minimumeisen van de Opvangrichtlijn. \n",
    "De afgelopen twee jaar is zichtbaar geworden waar dit beleid toe heeft geleid. Ter Apel is een begrip geworden in Nederland. De opvang die de Nederlandse Staat biedt is ondermaats. In een democratische rechtstaat mag verwacht worden dat een regering maatregelen aankondigt waarmee bovengenoemde problemen kunnen worden aangepakt, zoals het op orde brengen van de asielketen en het nadenken over vormen van opvang waarbij burgers vanaf het begin betrokken worden. Maar dat gebeurt niet.  Zo wil de regering de recent door de Staten-Generaal aangenomen Spreidingswet zo snel mogelijk weer intrekken. Met deze wet zou sprake zijn van dwang richting de gemeenten. Hoe de samenwerking met en tussen gemeenten dan gestalte moet krijgen, is  onduidelijk. Dit is van belang omdat in het regeerakkoord is opgenomen dat de regering met name grote opvanglocaties wil realiseren, waartegen juist veel weerstand bestaat bij burgers en het lokale bestuur. Zonder de Spreidingwet achter de hand, waarin als ultimum remedium een indeplaatsstellingsprocedure was opgenomen, doet zich de vraag voor of deze locaties wel gerealiseerd kunnen worden. \n",
    "Niet alleen de instroom van asielzoekers leidt tot problemen bij de opvang, ook de doorstroom van statushouders naar een reguliere woning leidt tot te veel mensen in opvanglocaties. In het regeerakkoord wordt voorgesteld om statushouders op te vangen in onzelfstandige huisvesting, doorstroomlocaties en in vormen van flexibele huisvesting. Dit laatste is zowel in lijn met het eerdere beleid van de regering als met de wens van gemeenten die er al langer voor pleiten om huisvesting aan meerdere groepen aan te bieden, waardoor adequater kan worden gereageerd op urgente behoefte aan huisvesting. Maar ook hier is de samenwerking van gemeenten nodig. In het regeerakkoord blijft onduidelijk hoe deze samenwerking precies vorm wordt gegeven. Dit klemt temeer nu volgens het regeerakkoord de voorrangspositie van statushouders in de Huisvestingswet moet worden afgeschaft. \n",
    "De maatregelen die worden aangekondigd voor de opvang van asielzoekers en huisvesting van statushouders zijn exemplarisch voor de asielmaatregelen die zijn aangekondigd in het regeerprogramma. Nergens wordt onderbouwd waarom de meeste maatregelen zich op asiel richten, terwijl cijfermatig ongeveer 10 % van de immigratie gaat om asiel. Ook wordt in het regeerakkoord nergens onderbouwd welke effecten de aangekondigde maatregelen dan hebben op het aantal asielaanvragen in Nederland, het verbeteren van het functioneren van de asielketen en de terugkeer van uitgeprocedeerde asielzoekers. Veel maatregelen die aangekondigd zijn, worden al lang uitgevoerd, zoals inzet op mensensmokkel en terugkeer. Andere aangekondigde maatregelen zijn juist contraproductief: zo zullen de invoering van het tweestatusstelsel leiden tot meer en duurdere asielprocedures. Ook is onduidelijk hoe de aangekondigde maatregelen van de regering zich verhouden tot het net inwerking getreden Asiel en Migratiepact van de EU. Dit ook door Nederland onderschreven Pact zet onder andere in op strenge controles aan de buitengrenzen van de EU en een afhandeling van asielaanvragen aan die buitengrenzen. Met de maatregelen in dit regeerakkoord lijkt Nederland echter te kiezen voor een naar binnen gerichte blik met een opt-out regeling voor Europese asielwetgeving, een asielstop en strengere controles aan de binnengrenzen. \n",
    "Als regering ben je verantwoordelijk voor het bieden van haalbare, effectieve oplossingen, gebaseerd op feiten. Toch komt de huidige regering met voorstellen die eerder gericht zijn op afbraak van grondrechten (i.c. het recht op asiel) en de rechtsstaat dan met doordachte maatregelen die passen bij de verantwoordelijkheid die een regering draagt voor alle inwoners van Nederland. Het lijkt zo simpel: minder mensen toelaten. Maar de oorzaken van migratie naar Nederland worden niet goed meegenomen en er wordt geen duurzaam, effectief beleid voorgesteld. De vereenvoudiging van dit complexe vraagstuk maakt ook dat de maatregelen die in het regeerakkoord staan niet dat zullen opleveren wat de regering aan de kiezer heeft beloofd. Hiermee wordt het vertrouwen in de politiek uiteindelijk verkleind, juist omdat de maatregelen niet of alleen deels waar te maken zijn. Daarnaast blijft onduidelijk waarom de regering zich voornamelijk richt op asiel. Dit klemt temeer omdat in de media veelal de totale instroom van migranten wordt aangehaald om de asielmaatregelen te verantwoorden. Dit is niet in overeenstemming met de cijfers. Daarnaast bestaat een zeer reële kans dat rechters geconfronteerd zullen worden met geschillen over de uitvoerbaarheid of de Unierechtelijke of grondrechtelijke ondergrenzen. Zo dreigt er een gevaarlijke dynamiek te ontstaan, waarin rechters geconfronteerd worden met maatregelen die juridisch niet deugen. De rechter kan dan het verwijt krijgen te politiek te zijn, of juist te terughoudend te toetsen. Deze tendens is ook al waar te nemen in klimaatzaken. \n",
    "Als de regering maatregelen wil nemen op het gebied van asiel, moeten deze maatregelen gebaseerd zijn op feiten. Ook moeten maatregelen voorgesteld worden die daadwerkelijk effect sorteren. Gebeurt dit niet , dan bestaat het gevaar dat de Nederlandse kiezer het vertrouwen verliest, iets dat Marc Hertogh ‘rechtsvervreemding’ noemt. Dit is problematisch omdat de regering juist beloofd heeft dat ze dat vertrouwen van de kiezer weer gaan terugwinnen. Op korte termijn houdt de regering de schijn op dat zij de zorgen rondom asiel die in de samenleving leven wegneemt, door daadkracht uit te stralen en duidelijke taal te spreken. Maar op de lange termijn zullen de aangekondigde maatregelen de democratische rechtsstaat ondermijnen en afbreuk doen aan het vertrouwen van burgers daarin, door de aantasting van de democratische legitimiteit en de uitholling van grondrechten.\n",
    "\"\"\""
   ]
  },
  {
   "cell_type": "code",
   "execution_count": 4,
   "metadata": {},
   "outputs": [],
   "source": [
    "tekst_3 = \"\"\"\n",
    "Begrotingsbehandeling Veiligheid en Justitie: asiel\n",
    "Ook afgelopen jaar zijn er in Nederland weer zo'n 160.000 migranten toegelaten! Hiervan kwamen ongeveer 50.000 uit niet-westerse landen.\n",
    "Dit zijn enorme aantallen, becijferd door het CBS, die bewijzen dat de PVV het terecht heeft over massa-immigratie! Massa-immigratie die helaas niet wordt aangepakt en niet wordt beperkt.\n",
    "Onze grote steden bestaan al voor de helft uit allochtonen. De integratieproblemen zijn nauwelijks meer te bevatten. Onze verzorgingsstaat dreigt om te vallen... en onze westerse cultuur wordt ernstig bedreigd door de islamisering! Maar de politieke elite blijft ziende blind en horende doof. De Nederlandse burger heeft nooit om de problemen van de massa- immigratie gevraagd. Die kreeg -en krijgt- dit gewoon in de maag gesplitst. Zelden wordt de enorme kloof die bestaat tussen politiek en gewone burger zo pijnlijk duidelijk als bij dit onderwerp.\n",
    "Terwijl maar liefst 80% van de Nederlandse bevolking een strenger toelatingsbeleid wil, wordt hier in de Kamer –van SP t/m VVD- alleen maar gezorgd voor nog méér immigratie. De rekening van dit open grenzen beleid komt nooit terecht bij de linkse grachtengordelelite. Wel bij de laatste autochtonen van de Schilderswijk. Bij mensen die vreemden zijn geworden in eigen land. Of bij de vrachtwagenchauffeur, die zijn baan in Poolse handen ziet verdwijnen.\n",
    "Vz, de PVV blijft zich wel verzetten tegen de immigratieramp. Altijd waarschuwen we tegen de openstelling van de arbeidsmarkt voor Polen of Roemenen... tegen de ongebreidelde binnenkomst van kansarme partner- en gezinsmigranten... en ga zo maar door..\n",
    "De immigratiecrisis van vandaag de dag wordt vooral gedomineerd door het falende asielbeleid. Gebleken is namelijk dat het Nederlandse asielstelsel helemaal mislukt is. Failliet is!\n",
    "Dit is aan te tonen met 3 belangrijke vaststellingen! En op elk van de drie wil ik graag een reactie van de staatssecretaris.\n",
    "De eerste vaststelling is dat de toelatingseisen voor asielzoekers veel te soepel zijn. In vergelijking met landen als Denemarken en Zwitserland, gaat het hier veel te makkelijk, en is het beleid softer dan soft. Maar zelfs in vergelijking met minder strenge landen, is de kans op een succesvolle asielaanvraag in Nederland absurd groot! Dat komt ook omdat het hier heel makkelijk is om de zaak te bedonderen! En vóór mensen gaan schreeuwen dat dit vreselijke PVV-teksten zijn, zeg ik er gelijk bij dat asielzoekers dit zelf aangeven. Neem de Lybiër Omar Mahed, die een boek heeft geschreven over zijn tijd in een Nederlands asielzoekerscentrum. Hier zag hij hoe kinderlijk eenvoudig vreemdelingen de zaak flessen om een verblijfsvergunning te krijgen. Valse vluchtverhalen, valse nationaliteiten, alles wordt uit de kast gehaald om te liegen en te bedriegen... en helaas tuint de IND daar gewoon in.\n",
    "Een ander groot probleem rond de toelatingseisen, is dat Nederland veel asielzoekers binnenhaalt die gewoon veilig in de eigen regio kunnen worden opgevangen. Neem de vele Somaliërs, die veilig naar buurland Kenia kunnen. Die vliegen toch massaal de halve wereld over naar Nederland, om hier een verblijfsvergunning aan te vragen. Neem ook de Syriërs. Zij worden niet in de regio opgevangen in veilige landen als Koeweit of de Emiraten! Ook zij komen in groten getale hiernaartoe, om van deze staatssecretaris een verblijfsvergunning in ontvangst te nemen. Niet de rijke oliesjeiks in de eigen Arabische regio, maar Henk en Ingrid worden verantwoordelijk gemaakt voor opvang van Syriërs. Dit is onhoudbaar.\n",
    "Vz, dan het tweede bewijs dat ons asielstelsel helemaal failliet is. Dit wordt gevormd door het gegeven dat ook massaal verblijfsvergunningen worden verstrekt als je asielaanvragen zijn afgewezen. Als dus tot en met de rechter is vastgesteld dat je geen echte vluchteling bent! Dit kan natuurlijk niet beter geïllustreerd worden als met het gebed zonder einde van de generaal pardonregelingen! Het maakt niet uit wie aan het roer staat: Cohen, Albayrak of deze staatssecretaris... Telkens komt er wel weer een nieuwe pardonregeling. En telkens wordt weer bewezen dat het loont om na een afgewezen asielaanvraag toch in Nederland te blijven. Het credo is duidelijk: Negeer je vertrekplicht en je krijgt vanzelf een verblijfsvergunning. Tienduizenden afgewezen asielzoekers hebben op deze manier verblijfsrecht geregeld. Zelfs criminele vreemdelingen zijn hierbij gelegaliseerd.\n",
    "En rond alle pardonregelingen draait de asielindustrie op volle toeren, en wordt de waarheid ernstig geweld aangedaan. Zo worden altijd termen als langdurige onzekerheid in de strijd gegooid. In werkelijkheid is vaak herhaaldelijk door IND en rechter bepaald dat de vele verblijfsaanvragen kansloos zijn. Maar de zaak traineren werkt, en de asieladvocaten krijgen jaarlijks 48 miljoen euro belastinggeld om de proceduremolens draaiende te houden. Het is overigens interessant om te zien dat iedereen in dit land geacht wordt rechterlijke uitspraken op te volgen, behalve afgewezen asielzoekers.\n",
    "Als die hun wettelijke vertrekplicht negeren en rechterlijke uitspraken brutaalweg naast zich neerleggen, krijgen ze van de meeste partijen hier in de Kamer een overweldigend applaus. De rechtsstaat hoeft kennelijk alleen gerespecteerd te worden voor zover die in lijn is met de rare ideeën van Links Nederland. Maar diezelfde partijen zorgen er op deze manier natuurlijk wel voor dat ons asielstelsel niets meer waard is. Elke vorm van asielbeleid is zinloos als je niet bereid bent om het kaf van het koren te scheiden. Als je gewoon iedereen wilt toelaten, en het niet meer uitmaakt of je echte vluchteling bent of niet.\n",
    "Vz, dan kom ik op het derde punt dat bewijst dat het huidige asielstelsel onhoudbaar is. En dat is dat uitgeprocedeerden of illegalen niet teruggaan naar de landen van herkomst en nauwelijks uitgezet worden. We hebben al eerder stilgestaan bij de enorm beroerde terugkeercijfers van de laatste tijd. Zowel gedwongen als vrijwillige terugkeer is met tientallen procenten afgenomen. Dit heeft natuurlijk te maken met het vorige punt, het in Nederland blijven in afwachting van het zoveelste generaal pardon, maar er speelt veel meer. Zo blijven er problemen bestaan rond de landen van herkomst die niet mee willen werken aan gedwongen terugkeer. Maar als je de ware mislukking wilt zien van het Nederlandse terugkeerbeleid, moet je kijken naar de bewoners van de vluchtkerk. Of fluchtflat, vluchtkantoor, of hoe al die panden ook mogen heten. Vaak kraakpanden overigens, met misleidende namen. Want de bewoners hebben juist helemaal niets met echt vluchtelingenschap te maken. De staatssecretaris is al heel lang niet bij machte om deze mensen het land uit te krijgen. Ze worden niet opgepakt, ze worden niet vastgezet en ze worden niet uitgezet. Vrijwillig zijn de uitgeprocedeerden meestal ook niet tot vertrek te bewegen. Zelfs niet als de staatssecretaris daar een premie van vier en een half duizend euro op zet. Het is veelzeggend dat illegalen het zich in Nederland kunnen permitteren om zelfs zo'n grote zak met geld te weigeren. Het is ook veelzeggend dat dit zelfs door deze staatssecretaris wordt aangeboden.\n",
    "De machteloosheid straalt er vanaf. Illegalen die niet terug willen moet je geen geld bieden maar vastzetten. Maar de staatssecretaris zet de wereld op zijn kop, en gaat vreemdelingendetentie juist beperken! En zo blijven we met alle uitgeprocedeerden zitten, en wordt het probleem van illegaliteit alleen maar erger. Overigens geldt ook hier dat met name de linkse partijen mede verantwoordelijk zijn voor de ellende.\n",
    "Linkse burgemeesters en ook Kamerleden maken zich immers constant hard voor opvang van uitgeprocedeerden. Helaas sluit het CDA zich hier nu ook bij aan. Wetende dat ze mensen helpen die zelf keer op keer bewijzen dat ze wel naar hun land van herkomst terug kunnen, maar niet willen. Het signaal wordt steeds sterker: ook al ben je geen echte vluchteling, ga naar Nederland, want eenmaal binnen ben je niet meer weg te krijgen... Het terugkeerbeleid wordt door de Nederlandse politiek zelf de nek omgedraaid. Maar omdat een goed functionerend asielbeleid natuurlijk niet zonder een goed werkend terugkeerbeleid kan, is dit de derde reden waarom het asielstelsel kapot is!\n",
    "Vz, samenvattend is het asielbeleid veel te soft, waardoor vreemdelingen niet in de regio worden opgevangen maar duizenden euros' betalen om naar Nederland te vliegen. Verder wordt aan tienduizenden vreemdelingen -die nooit aan de toelatingsvoorwaarden hebben voldaan- toch verblijfsrecht verleend. Tenslotte kunnen uitgeprocedeerden en illegalen ook gewoon in Nederland blijven... omdat de vertrekplicht helemaal niets meer waard is en ook niet gehandhaafd wordt. In deze situatie kan alleen maar erkend worden dat we afscheid moeten nemen van het huidige asielstelsel. Dit betekent heel concreet dat Nederland moet stoppen met de massale opname van asielzoekers en moet stoppen met het standaard behandelen van ieder asielverzoek. Het vluchtelingenverdrag –dat ons hiertoe verplicht- moet worden opgezegd. De PVV vraagt de staatssecretaris dan ook om dat te doen! Dit verdrag is geschreven in 1951, en is niet berekend op deze tijd waarin je binnen een dag de hele wereld over kunt vliegen.\n",
    "Vz, de PVV vindt vanzelfsprekend dat echte vluchtelingen altijd geholpen moeten worden. En als vaststaat dat opvang in de eigen regio echt niet kan, dan willen we ook nog steeds toegang tot Nederland bieden.\n",
    "Maar dat moeten we dan zelf kunnen bepalen. Het punt is nogmaals dat bewezen is dat problemen niet effectief kunnen worden opgelost zolang we de verplichting hebben om iedereen die dat wil toegang te geven tot de Nederlandse asielprocedure. Dit is de basis van de huidige problemen dus hier moeten we vanaf.\n",
    "\"\"\""
   ]
  },
  {
   "cell_type": "code",
   "execution_count": 5,
   "metadata": {},
   "outputs": [],
   "source": [
    "tekst_4 = \"\"\"\n",
    "Regering: 'Er is een plan om problemen in asiel-opvang op te lossen'\n",
    "Mensen die dicht op elkaar liggen en moeten slapen in de buitenlucht. De afgelopen tijd is het veel in het nieuws. Vandaag ook weer, want de regering komt met een plan om de problemen op te lossen.\n",
    "Om meer te begrijpen over de problemen, is het goed om te weten hoe het gaat om als asielzoeker naar Nederland te komen.\n",
    "Wat gebeurt er met asielzoekers?\n",
    "1.⁠ ⁠Mensen die in ons land aankomen en hier willen komen wonen zijn asielzoekers. Ze moeten zich aanmelden in Ter Apel in Groningen bij het aanmeld-centrum.\n",
    "2.⁠ ⁠Daarna gaan de mensen naar een opvangplek in Nederland, een asielzoekers-centrum. Daar wachten ze dan af of ze in Nederland mogen blijven of niet.\n",
    "3.⁠ ⁠En daarna gaan de mensen die in Nederland mogen blijven in een normaal huis wonen.\n",
    "Wat we nu in het nieuws zien zijn meerdere problemen die met elkaar te maken hebben.\n",
    "Welke problemen zijn er?\n",
    "Niet genoeg huizen\n",
    "Er zijn niet genoeg huizen in Nederland. Dus kunnen asielzoekers geen woning vinden en moeten ze in het asielzoekers-centrum blijven. Daardoor zitten de opvangplekken propvol.\n",
    "Niet genoeg opvangplekken\n",
    "Er zijn ook niet genoeg opvangplekken. Tijdens de corona-crisis zijn veel van die plekken gesloten, omdat er toen minder asielzoekers naar Nederland kwamen. Maar nu ze wel weer komen, gaan er veel plekken niet opnieuw open.\n",
    "Daardoor kunnen er ook niet veel nieuwe asielzoekers vanuit het aanmeld-centrum naar het asielzoekers-centrum toe.\n",
    "Te weinig plek bij het aanmeld-centrum\n",
    "En dus staat er ook een enorme wachtrij bij de aanmeldplek. En bij het aanmeld-centrum zijn ook nog eens niet genoeg mensen om alle asielzoekers te verzorgen.\n",
    "De drukte zorgt voor nare situaties bij het aanmeld-centrum in Ter Apel: het is er vies en er zijn geen douches. Hierdoor kunnen de mensen sneller ziek worden. Volgens veel mensen moet er echt iets veranderen en kan het zo niet langer.\n",
    "Maar nu zegt de regering eindelijk dat ze gaan ingrijpen.\n",
    "Iedereen ziet de vervelende beelden. Dit kan zo niet langer in ons land.\n",
    "Eric van der Burg, staatssecretaris voor Asiel en Migratie\n",
    "De regering wil dat er 20.000 huizen voor asielzoekers komen, zodat er plekken vrijkomen in de opvang. En er komt 730 miljoen euro voor nieuwe nood-opvangplekken en tijdelijke woningen.\n",
    "Om het aantal asielzoekers te verminderen mogen mensen die hier alleen naartoe zijn gekomen, niet hun gezin ook laten komen als ze nog geen huis hebben.\n",
    "\"\"\""
   ]
  },
  {
   "cell_type": "code",
   "execution_count": 6,
   "metadata": {},
   "outputs": [
    {
     "name": "stdout",
     "output_type": "stream",
     "text": [
      "Text 1\n",
      "Number of sentences: 41\n",
      "Number of words: 618\n",
      "Total syllables: 1037\n",
      "\n",
      "Text 2\n",
      "Number of sentences: 79\n",
      "Number of words: 1613\n",
      "Total syllables: 3011\n",
      "\n",
      "Text 3\n",
      "Number of sentences: 99\n",
      "Number of words: 1516\n",
      "Total syllables: 2669\n",
      "\n",
      "Text 4\n",
      "Number of sentences: 30\n",
      "Number of words: 408\n",
      "Total syllables: 665\n",
      "\n"
     ]
    }
   ],
   "source": [
    "texts = [tekst_1,tekst_2,tekst_3,tekst_4]\n",
    "for ind,text in enumerate(texts):\n",
    "    print(f\"Text {ind+1}\")\n",
    "    analyze_text(text)\n",
    "    print()"
   ]
  },
  {
   "cell_type": "code",
   "execution_count": null,
   "metadata": {},
   "outputs": [],
   "source": []
  }
 ],
 "metadata": {
  "kernelspec": {
   "display_name": "base",
   "language": "python",
   "name": "python3"
  },
  "language_info": {
   "codemirror_mode": {
    "name": "ipython",
    "version": 3
   },
   "file_extension": ".py",
   "mimetype": "text/x-python",
   "name": "python",
   "nbconvert_exporter": "python",
   "pygments_lexer": "ipython3",
   "version": "3.11.5"
  }
 },
 "nbformat": 4,
 "nbformat_minor": 2
}
