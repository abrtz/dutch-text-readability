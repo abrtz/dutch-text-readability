{
 "cells": [
  {
   "cell_type": "code",
   "execution_count": 1,
   "metadata": {},
   "outputs": [],
   "source": [
    "from utils import *"
   ]
  },
  {
   "cell_type": "code",
   "execution_count": 2,
   "metadata": {},
   "outputs": [
    {
     "name": "stdout",
     "output_type": "stream",
     "text": [
      "tekst_2.txt\n",
      "Number of sentences: 79\n",
      "Number of words: 1613\n",
      "Total syllables: 3011\n",
      "\n",
      "Flesh-Douma readability formula: 44.11\n",
      "Target public: university student\n",
      "---------------------------------\n",
      "tekst_3.txt\n",
      "Number of sentences: 99\n",
      "Number of words: 1516\n",
      "Total syllables: 2669\n",
      "\n",
      "Flesh-Douma readability formula: 57.03\n",
      "Target public: college advanced secondary education\n",
      "---------------------------------\n",
      "tekst_1.txt\n",
      "Number of sentences: 41\n",
      "Number of words: 618\n",
      "Total syllables: 1037\n",
      "\n",
      "Flesh-Douma readability formula: 63.61\n",
      "Target public: secondary school (first years)\n",
      "---------------------------------\n",
      "tekst_4.txt\n",
      "Number of sentences: 30\n",
      "Number of words: 408\n",
      "Total syllables: 665\n",
      "\n",
      "Flesh-Douma readability formula: 68.68\n",
      "Target public: secondary school (first years)\n",
      "---------------------------------\n"
     ]
    }
   ],
   "source": [
    "main()"
   ]
  },
  {
   "cell_type": "code",
   "execution_count": null,
   "metadata": {},
   "outputs": [],
   "source": []
  }
 ],
 "metadata": {
  "kernelspec": {
   "display_name": "Python 3",
   "language": "python",
   "name": "python3"
  },
  "language_info": {
   "codemirror_mode": {
    "name": "ipython",
    "version": 3
   },
   "file_extension": ".py",
   "mimetype": "text/x-python",
   "name": "python",
   "nbconvert_exporter": "python",
   "pygments_lexer": "ipython3",
   "version": "3.11.5"
  }
 },
 "nbformat": 4,
 "nbformat_minor": 2
}
